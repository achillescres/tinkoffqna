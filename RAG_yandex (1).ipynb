{
  "nbformat": 4,
  "nbformat_minor": 0,
  "metadata": {
    "colab": {
      "provenance": []
    },
    "kernelspec": {
      "name": "python3",
      "display_name": "Python 3"
    },
    "language_info": {
      "name": "python"
    }
  },
  "cells": [
    {
      "cell_type": "code",
      "source": [
        "!pip install chromadb-client sentence_transformers\n",
        "!pip install openai"
      ],
      "metadata": {
        "colab": {
          "base_uri": "https://localhost:8080/"
        },
        "id": "rNGve-F4Q93C",
        "outputId": "5a54795f-24f9-4cd0-9c06-4b4c8a3c30ce"
      },
      "execution_count": 2,
      "outputs": [
        {
          "output_type": "stream",
          "name": "stdout",
          "text": [
            "Collecting chromadb-client\n",
            "  Downloading chromadb_client-0.4.25.dev0-py3-none-any.whl (523 kB)\n",
            "\u001b[2K     \u001b[90m━━━━━━━━━━━━━━━━━━━━━━━━━━━━━━━━━━━━━━━━\u001b[0m \u001b[32m523.5/523.5 kB\u001b[0m \u001b[31m6.2 MB/s\u001b[0m eta \u001b[36m0:00:00\u001b[0m\n",
            "\u001b[?25hCollecting sentence_transformers\n",
            "  Downloading sentence_transformers-3.0.0-py3-none-any.whl (224 kB)\n",
            "\u001b[2K     \u001b[90m━━━━━━━━━━━━━━━━━━━━━━━━━━━━━━━━━━━━━━━━\u001b[0m \u001b[32m224.7/224.7 kB\u001b[0m \u001b[31m7.9 MB/s\u001b[0m eta \u001b[36m0:00:00\u001b[0m\n",
            "\u001b[?25hRequirement already satisfied: numpy>=1.22.5 in /usr/local/lib/python3.10/dist-packages (from chromadb-client) (1.25.2)\n",
            "Collecting opentelemetry-api>=1.2.0 (from chromadb-client)\n",
            "  Downloading opentelemetry_api-1.25.0-py3-none-any.whl (59 kB)\n",
            "\u001b[2K     \u001b[90m━━━━━━━━━━━━━━━━━━━━━━━━━━━━━━━━━━━━━━━━\u001b[0m \u001b[32m59.9/59.9 kB\u001b[0m \u001b[31m7.9 MB/s\u001b[0m eta \u001b[36m0:00:00\u001b[0m\n",
            "\u001b[?25hCollecting opentelemetry-exporter-otlp-proto-grpc>=1.2.0 (from chromadb-client)\n",
            "  Downloading opentelemetry_exporter_otlp_proto_grpc-1.25.0-py3-none-any.whl (18 kB)\n",
            "Collecting opentelemetry-sdk>=1.2.0 (from chromadb-client)\n",
            "  Downloading opentelemetry_sdk-1.25.0-py3-none-any.whl (107 kB)\n",
            "\u001b[2K     \u001b[90m━━━━━━━━━━━━━━━━━━━━━━━━━━━━━━━━━━━━━━━━\u001b[0m \u001b[32m107.0/107.0 kB\u001b[0m \u001b[31m7.2 MB/s\u001b[0m eta \u001b[36m0:00:00\u001b[0m\n",
            "\u001b[?25hCollecting overrides>=7.3.1 (from chromadb-client)\n",
            "  Downloading overrides-7.7.0-py3-none-any.whl (17 kB)\n",
            "Collecting posthog>=2.4.0 (from chromadb-client)\n",
            "  Downloading posthog-3.5.0-py2.py3-none-any.whl (41 kB)\n",
            "\u001b[2K     \u001b[90m━━━━━━━━━━━━━━━━━━━━━━━━━━━━━━━━━━━━━━━━\u001b[0m \u001b[32m41.3/41.3 kB\u001b[0m \u001b[31m5.5 MB/s\u001b[0m eta \u001b[36m0:00:00\u001b[0m\n",
            "\u001b[?25hRequirement already satisfied: pydantic>=1.9 in /usr/local/lib/python3.10/dist-packages (from chromadb-client) (2.7.1)\n",
            "Requirement already satisfied: requests>=2.28 in /usr/local/lib/python3.10/dist-packages (from chromadb-client) (2.31.0)\n",
            "Requirement already satisfied: typing-extensions>=4.5.0 in /usr/local/lib/python3.10/dist-packages (from chromadb-client) (4.11.0)\n",
            "Requirement already satisfied: tenacity>=8.2.3 in /usr/local/lib/python3.10/dist-packages (from chromadb-client) (8.3.0)\n",
            "Requirement already satisfied: PyYAML>=6.0.0 in /usr/local/lib/python3.10/dist-packages (from chromadb-client) (6.0.1)\n",
            "Collecting orjson>=3.9.12 (from chromadb-client)\n",
            "  Downloading orjson-3.10.3-cp310-cp310-manylinux_2_17_x86_64.manylinux2014_x86_64.whl (142 kB)\n",
            "\u001b[2K     \u001b[90m━━━━━━━━━━━━━━━━━━━━━━━━━━━━━━━━━━━━━━━━\u001b[0m \u001b[32m142.5/142.5 kB\u001b[0m \u001b[31m8.6 MB/s\u001b[0m eta \u001b[36m0:00:00\u001b[0m\n",
            "\u001b[?25hRequirement already satisfied: transformers<5.0.0,>=4.34.0 in /usr/local/lib/python3.10/dist-packages (from sentence_transformers) (4.41.1)\n",
            "Requirement already satisfied: tqdm in /usr/local/lib/python3.10/dist-packages (from sentence_transformers) (4.66.4)\n",
            "Requirement already satisfied: torch>=1.11.0 in /usr/local/lib/python3.10/dist-packages (from sentence_transformers) (2.3.0+cu121)\n",
            "Requirement already satisfied: scikit-learn in /usr/local/lib/python3.10/dist-packages (from sentence_transformers) (1.2.2)\n",
            "Requirement already satisfied: scipy in /usr/local/lib/python3.10/dist-packages (from sentence_transformers) (1.11.4)\n",
            "Requirement already satisfied: huggingface-hub>=0.15.1 in /usr/local/lib/python3.10/dist-packages (from sentence_transformers) (0.23.1)\n",
            "Requirement already satisfied: Pillow in /usr/local/lib/python3.10/dist-packages (from sentence_transformers) (9.4.0)\n",
            "Requirement already satisfied: filelock in /usr/local/lib/python3.10/dist-packages (from huggingface-hub>=0.15.1->sentence_transformers) (3.14.0)\n",
            "Requirement already satisfied: fsspec>=2023.5.0 in /usr/local/lib/python3.10/dist-packages (from huggingface-hub>=0.15.1->sentence_transformers) (2023.6.0)\n",
            "Requirement already satisfied: packaging>=20.9 in /usr/local/lib/python3.10/dist-packages (from huggingface-hub>=0.15.1->sentence_transformers) (24.0)\n",
            "Collecting deprecated>=1.2.6 (from opentelemetry-api>=1.2.0->chromadb-client)\n",
            "  Downloading Deprecated-1.2.14-py2.py3-none-any.whl (9.6 kB)\n",
            "Requirement already satisfied: importlib-metadata<=7.1,>=6.0 in /usr/local/lib/python3.10/dist-packages (from opentelemetry-api>=1.2.0->chromadb-client) (7.1.0)\n",
            "Requirement already satisfied: googleapis-common-protos~=1.52 in /usr/local/lib/python3.10/dist-packages (from opentelemetry-exporter-otlp-proto-grpc>=1.2.0->chromadb-client) (1.63.0)\n",
            "Requirement already satisfied: grpcio<2.0.0,>=1.0.0 in /usr/local/lib/python3.10/dist-packages (from opentelemetry-exporter-otlp-proto-grpc>=1.2.0->chromadb-client) (1.64.0)\n",
            "Collecting opentelemetry-exporter-otlp-proto-common==1.25.0 (from opentelemetry-exporter-otlp-proto-grpc>=1.2.0->chromadb-client)\n",
            "  Downloading opentelemetry_exporter_otlp_proto_common-1.25.0-py3-none-any.whl (17 kB)\n",
            "Collecting opentelemetry-proto==1.25.0 (from opentelemetry-exporter-otlp-proto-grpc>=1.2.0->chromadb-client)\n",
            "  Downloading opentelemetry_proto-1.25.0-py3-none-any.whl (52 kB)\n",
            "\u001b[2K     \u001b[90m━━━━━━━━━━━━━━━━━━━━━━━━━━━━━━━━━━━━━━━━\u001b[0m \u001b[32m52.5/52.5 kB\u001b[0m \u001b[31m6.7 MB/s\u001b[0m eta \u001b[36m0:00:00\u001b[0m\n",
            "\u001b[?25hRequirement already satisfied: protobuf<5.0,>=3.19 in /usr/local/lib/python3.10/dist-packages (from opentelemetry-proto==1.25.0->opentelemetry-exporter-otlp-proto-grpc>=1.2.0->chromadb-client) (3.20.3)\n",
            "Collecting opentelemetry-semantic-conventions==0.46b0 (from opentelemetry-sdk>=1.2.0->chromadb-client)\n",
            "  Downloading opentelemetry_semantic_conventions-0.46b0-py3-none-any.whl (130 kB)\n",
            "\u001b[2K     \u001b[90m━━━━━━━━━━━━━━━━━━━━━━━━━━━━━━━━━━━━━━━━\u001b[0m \u001b[32m130.5/130.5 kB\u001b[0m \u001b[31m8.0 MB/s\u001b[0m eta \u001b[36m0:00:00\u001b[0m\n",
            "\u001b[?25hRequirement already satisfied: six>=1.5 in /usr/local/lib/python3.10/dist-packages (from posthog>=2.4.0->chromadb-client) (1.16.0)\n",
            "Collecting monotonic>=1.5 (from posthog>=2.4.0->chromadb-client)\n",
            "  Downloading monotonic-1.6-py2.py3-none-any.whl (8.2 kB)\n",
            "Collecting backoff>=1.10.0 (from posthog>=2.4.0->chromadb-client)\n",
            "  Downloading backoff-2.2.1-py3-none-any.whl (15 kB)\n",
            "Requirement already satisfied: python-dateutil>2.1 in /usr/local/lib/python3.10/dist-packages (from posthog>=2.4.0->chromadb-client) (2.8.2)\n",
            "Requirement already satisfied: annotated-types>=0.4.0 in /usr/local/lib/python3.10/dist-packages (from pydantic>=1.9->chromadb-client) (0.7.0)\n",
            "Requirement already satisfied: pydantic-core==2.18.2 in /usr/local/lib/python3.10/dist-packages (from pydantic>=1.9->chromadb-client) (2.18.2)\n",
            "Requirement already satisfied: charset-normalizer<4,>=2 in /usr/local/lib/python3.10/dist-packages (from requests>=2.28->chromadb-client) (3.3.2)\n",
            "Requirement already satisfied: idna<4,>=2.5 in /usr/local/lib/python3.10/dist-packages (from requests>=2.28->chromadb-client) (3.7)\n",
            "Requirement already satisfied: urllib3<3,>=1.21.1 in /usr/local/lib/python3.10/dist-packages (from requests>=2.28->chromadb-client) (2.0.7)\n",
            "Requirement already satisfied: certifi>=2017.4.17 in /usr/local/lib/python3.10/dist-packages (from requests>=2.28->chromadb-client) (2024.2.2)\n",
            "Requirement already satisfied: sympy in /usr/local/lib/python3.10/dist-packages (from torch>=1.11.0->sentence_transformers) (1.12)\n",
            "Requirement already satisfied: networkx in /usr/local/lib/python3.10/dist-packages (from torch>=1.11.0->sentence_transformers) (3.3)\n",
            "Requirement already satisfied: jinja2 in /usr/local/lib/python3.10/dist-packages (from torch>=1.11.0->sentence_transformers) (3.1.4)\n",
            "Collecting nvidia-cuda-nvrtc-cu12==12.1.105 (from torch>=1.11.0->sentence_transformers)\n",
            "  Using cached nvidia_cuda_nvrtc_cu12-12.1.105-py3-none-manylinux1_x86_64.whl (23.7 MB)\n",
            "Collecting nvidia-cuda-runtime-cu12==12.1.105 (from torch>=1.11.0->sentence_transformers)\n",
            "  Using cached nvidia_cuda_runtime_cu12-12.1.105-py3-none-manylinux1_x86_64.whl (823 kB)\n",
            "Collecting nvidia-cuda-cupti-cu12==12.1.105 (from torch>=1.11.0->sentence_transformers)\n",
            "  Using cached nvidia_cuda_cupti_cu12-12.1.105-py3-none-manylinux1_x86_64.whl (14.1 MB)\n",
            "Collecting nvidia-cudnn-cu12==8.9.2.26 (from torch>=1.11.0->sentence_transformers)\n",
            "  Using cached nvidia_cudnn_cu12-8.9.2.26-py3-none-manylinux1_x86_64.whl (731.7 MB)\n",
            "Collecting nvidia-cublas-cu12==12.1.3.1 (from torch>=1.11.0->sentence_transformers)\n",
            "  Using cached nvidia_cublas_cu12-12.1.3.1-py3-none-manylinux1_x86_64.whl (410.6 MB)\n",
            "Collecting nvidia-cufft-cu12==11.0.2.54 (from torch>=1.11.0->sentence_transformers)\n",
            "  Using cached nvidia_cufft_cu12-11.0.2.54-py3-none-manylinux1_x86_64.whl (121.6 MB)\n",
            "Collecting nvidia-curand-cu12==10.3.2.106 (from torch>=1.11.0->sentence_transformers)\n",
            "  Using cached nvidia_curand_cu12-10.3.2.106-py3-none-manylinux1_x86_64.whl (56.5 MB)\n",
            "Collecting nvidia-cusolver-cu12==11.4.5.107 (from torch>=1.11.0->sentence_transformers)\n",
            "  Using cached nvidia_cusolver_cu12-11.4.5.107-py3-none-manylinux1_x86_64.whl (124.2 MB)\n",
            "Collecting nvidia-cusparse-cu12==12.1.0.106 (from torch>=1.11.0->sentence_transformers)\n",
            "  Using cached nvidia_cusparse_cu12-12.1.0.106-py3-none-manylinux1_x86_64.whl (196.0 MB)\n",
            "Collecting nvidia-nccl-cu12==2.20.5 (from torch>=1.11.0->sentence_transformers)\n",
            "  Using cached nvidia_nccl_cu12-2.20.5-py3-none-manylinux2014_x86_64.whl (176.2 MB)\n",
            "Collecting nvidia-nvtx-cu12==12.1.105 (from torch>=1.11.0->sentence_transformers)\n",
            "  Using cached nvidia_nvtx_cu12-12.1.105-py3-none-manylinux1_x86_64.whl (99 kB)\n",
            "Requirement already satisfied: triton==2.3.0 in /usr/local/lib/python3.10/dist-packages (from torch>=1.11.0->sentence_transformers) (2.3.0)\n",
            "Collecting nvidia-nvjitlink-cu12 (from nvidia-cusolver-cu12==11.4.5.107->torch>=1.11.0->sentence_transformers)\n",
            "  Downloading nvidia_nvjitlink_cu12-12.5.40-py3-none-manylinux2014_x86_64.whl (21.3 MB)\n",
            "\u001b[2K     \u001b[90m━━━━━━━━━━━━━━━━━━━━━━━━━━━━━━━━━━━━━━━━\u001b[0m \u001b[32m21.3/21.3 MB\u001b[0m \u001b[31m47.6 MB/s\u001b[0m eta \u001b[36m0:00:00\u001b[0m\n",
            "\u001b[?25hRequirement already satisfied: regex!=2019.12.17 in /usr/local/lib/python3.10/dist-packages (from transformers<5.0.0,>=4.34.0->sentence_transformers) (2024.5.15)\n",
            "Requirement already satisfied: tokenizers<0.20,>=0.19 in /usr/local/lib/python3.10/dist-packages (from transformers<5.0.0,>=4.34.0->sentence_transformers) (0.19.1)\n",
            "Requirement already satisfied: safetensors>=0.4.1 in /usr/local/lib/python3.10/dist-packages (from transformers<5.0.0,>=4.34.0->sentence_transformers) (0.4.3)\n",
            "Requirement already satisfied: joblib>=1.1.1 in /usr/local/lib/python3.10/dist-packages (from scikit-learn->sentence_transformers) (1.4.2)\n",
            "Requirement already satisfied: threadpoolctl>=2.0.0 in /usr/local/lib/python3.10/dist-packages (from scikit-learn->sentence_transformers) (3.5.0)\n",
            "Requirement already satisfied: wrapt<2,>=1.10 in /usr/local/lib/python3.10/dist-packages (from deprecated>=1.2.6->opentelemetry-api>=1.2.0->chromadb-client) (1.14.1)\n",
            "Requirement already satisfied: zipp>=0.5 in /usr/local/lib/python3.10/dist-packages (from importlib-metadata<=7.1,>=6.0->opentelemetry-api>=1.2.0->chromadb-client) (3.18.2)\n",
            "Requirement already satisfied: MarkupSafe>=2.0 in /usr/local/lib/python3.10/dist-packages (from jinja2->torch>=1.11.0->sentence_transformers) (2.1.5)\n",
            "Requirement already satisfied: mpmath>=0.19 in /usr/local/lib/python3.10/dist-packages (from sympy->torch>=1.11.0->sentence_transformers) (1.3.0)\n",
            "Installing collected packages: monotonic, overrides, orjson, opentelemetry-proto, nvidia-nvtx-cu12, nvidia-nvjitlink-cu12, nvidia-nccl-cu12, nvidia-curand-cu12, nvidia-cufft-cu12, nvidia-cuda-runtime-cu12, nvidia-cuda-nvrtc-cu12, nvidia-cuda-cupti-cu12, nvidia-cublas-cu12, deprecated, backoff, posthog, opentelemetry-exporter-otlp-proto-common, opentelemetry-api, nvidia-cusparse-cu12, nvidia-cudnn-cu12, opentelemetry-semantic-conventions, nvidia-cusolver-cu12, opentelemetry-sdk, sentence_transformers, opentelemetry-exporter-otlp-proto-grpc, chromadb-client\n",
            "Successfully installed backoff-2.2.1 chromadb-client-0.4.25.dev0 deprecated-1.2.14 monotonic-1.6 nvidia-cublas-cu12-12.1.3.1 nvidia-cuda-cupti-cu12-12.1.105 nvidia-cuda-nvrtc-cu12-12.1.105 nvidia-cuda-runtime-cu12-12.1.105 nvidia-cudnn-cu12-8.9.2.26 nvidia-cufft-cu12-11.0.2.54 nvidia-curand-cu12-10.3.2.106 nvidia-cusolver-cu12-11.4.5.107 nvidia-cusparse-cu12-12.1.0.106 nvidia-nccl-cu12-2.20.5 nvidia-nvjitlink-cu12-12.5.40 nvidia-nvtx-cu12-12.1.105 opentelemetry-api-1.25.0 opentelemetry-exporter-otlp-proto-common-1.25.0 opentelemetry-exporter-otlp-proto-grpc-1.25.0 opentelemetry-proto-1.25.0 opentelemetry-sdk-1.25.0 opentelemetry-semantic-conventions-0.46b0 orjson-3.10.3 overrides-7.7.0 posthog-3.5.0 sentence_transformers-3.0.0\n",
            "Collecting openai\n",
            "  Downloading openai-1.30.5-py3-none-any.whl (320 kB)\n",
            "\u001b[2K     \u001b[90m━━━━━━━━━━━━━━━━━━━━━━━━━━━━━━━━━━━━━━━━\u001b[0m \u001b[32m320.7/320.7 kB\u001b[0m \u001b[31m6.9 MB/s\u001b[0m eta \u001b[36m0:00:00\u001b[0m\n",
            "\u001b[?25hRequirement already satisfied: anyio<5,>=3.5.0 in /usr/local/lib/python3.10/dist-packages (from openai) (3.7.1)\n",
            "Requirement already satisfied: distro<2,>=1.7.0 in /usr/lib/python3/dist-packages (from openai) (1.7.0)\n",
            "Collecting httpx<1,>=0.23.0 (from openai)\n",
            "  Downloading httpx-0.27.0-py3-none-any.whl (75 kB)\n",
            "\u001b[2K     \u001b[90m━━━━━━━━━━━━━━━━━━━━━━━━━━━━━━━━━━━━━━━━\u001b[0m \u001b[32m75.6/75.6 kB\u001b[0m \u001b[31m9.8 MB/s\u001b[0m eta \u001b[36m0:00:00\u001b[0m\n",
            "\u001b[?25hRequirement already satisfied: pydantic<3,>=1.9.0 in /usr/local/lib/python3.10/dist-packages (from openai) (2.7.1)\n",
            "Requirement already satisfied: sniffio in /usr/local/lib/python3.10/dist-packages (from openai) (1.3.1)\n",
            "Requirement already satisfied: tqdm>4 in /usr/local/lib/python3.10/dist-packages (from openai) (4.66.4)\n",
            "Requirement already satisfied: typing-extensions<5,>=4.7 in /usr/local/lib/python3.10/dist-packages (from openai) (4.11.0)\n",
            "Requirement already satisfied: idna>=2.8 in /usr/local/lib/python3.10/dist-packages (from anyio<5,>=3.5.0->openai) (3.7)\n",
            "Requirement already satisfied: exceptiongroup in /usr/local/lib/python3.10/dist-packages (from anyio<5,>=3.5.0->openai) (1.2.1)\n",
            "Requirement already satisfied: certifi in /usr/local/lib/python3.10/dist-packages (from httpx<1,>=0.23.0->openai) (2024.2.2)\n",
            "Collecting httpcore==1.* (from httpx<1,>=0.23.0->openai)\n",
            "  Downloading httpcore-1.0.5-py3-none-any.whl (77 kB)\n",
            "\u001b[2K     \u001b[90m━━━━━━━━━━━━━━━━━━━━━━━━━━━━━━━━━━━━━━━━\u001b[0m \u001b[32m77.9/77.9 kB\u001b[0m \u001b[31m9.6 MB/s\u001b[0m eta \u001b[36m0:00:00\u001b[0m\n",
            "\u001b[?25hCollecting h11<0.15,>=0.13 (from httpcore==1.*->httpx<1,>=0.23.0->openai)\n",
            "  Downloading h11-0.14.0-py3-none-any.whl (58 kB)\n",
            "\u001b[2K     \u001b[90m━━━━━━━━━━━━━━━━━━━━━━━━━━━━━━━━━━━━━━━━\u001b[0m \u001b[32m58.3/58.3 kB\u001b[0m \u001b[31m6.0 MB/s\u001b[0m eta \u001b[36m0:00:00\u001b[0m\n",
            "\u001b[?25hRequirement already satisfied: annotated-types>=0.4.0 in /usr/local/lib/python3.10/dist-packages (from pydantic<3,>=1.9.0->openai) (0.7.0)\n",
            "Requirement already satisfied: pydantic-core==2.18.2 in /usr/local/lib/python3.10/dist-packages (from pydantic<3,>=1.9.0->openai) (2.18.2)\n",
            "Installing collected packages: h11, httpcore, httpx, openai\n",
            "Successfully installed h11-0.14.0 httpcore-1.0.5 httpx-0.27.0 openai-1.30.5\n"
          ]
        }
      ]
    },
    {
      "cell_type": "code",
      "source": [
        "import chromadb\n",
        "from sentence_transformers import SentenceTransformer\n",
        "import requests\n",
        "import json\n",
        "import os\n",
        "model = SentenceTransformer('sentence-transformers/paraphrase-multilingual-MiniLM-L12-v2')"
      ],
      "metadata": {
        "colab": {
          "base_uri": "https://localhost:8080/"
        },
        "id": "OwONwPx_QziZ",
        "outputId": "d50ee50f-91d5-4c9c-a04f-f6ecb271c9d1"
      },
      "execution_count": 8,
      "outputs": [
        {
          "output_type": "stream",
          "name": "stderr",
          "text": [
            "/usr/local/lib/python3.10/dist-packages/huggingface_hub/file_download.py:1132: FutureWarning: `resume_download` is deprecated and will be removed in version 1.0.0. Downloads always resume when possible. If you want to force a new download, use `force_download=True`.\n",
            "  warnings.warn(\n"
          ]
        }
      ]
    },
    {
      "cell_type": "code",
      "execution_count": 5,
      "metadata": {
        "id": "74lAgnLYQSI-"
      },
      "outputs": [],
      "source": [
        "class EmbeddingModel:\n",
        "    def __init__(self, model):\n",
        "        self.model = model\n",
        "\n",
        "    def __call__(self, input):\n",
        "        embeddings = []\n",
        "        for text in input:\n",
        "            if ' -- ' not in text:\n",
        "                raise ValueError(\"Input text does not contain expected '--' delimiter.\")\n",
        "\n",
        "            question = text.split(' -- ')[0]\n",
        "\n",
        "            embedded = self.model.encode(question, show_progress_bar=False)\n",
        "            embeddings.append(embedded.tolist())\n",
        "\n",
        "        return embeddings\n",
        "\n",
        "embedding_model = EmbeddingModel(model)\n"
      ]
    },
    {
      "cell_type": "code",
      "source": [
        "client = chromadb.HttpClient(host='51.250.103.4', port=8000)\n",
        "collection = client.get_collection(name=\"tinkoff_collection\", embedding_function=embedding_model)"
      ],
      "metadata": {
        "id": "l5Jje9RsQv5f"
      },
      "execution_count": 7,
      "outputs": []
    },
    {
      "cell_type": "code",
      "source": [
        "# def get_promt_on_check(questions, answer):\n",
        "\n",
        "#   prompt = {\n",
        "#     \"modelUri\": r\"gpt://b1gtg0ar2bip3ebkst80/yandexgpt/latest\", # версия модели тут https://yandex.cloud/ru/docs/foundation-models/concepts/yandexgpt/models\n",
        "#     \"completionOptions\": {\n",
        "#       \"stream\": False,\n",
        "#       \"temperature\": 0.0,\n",
        "#       \"maxTokens\": \"2000\"\n",
        "#     },\n",
        "#     \"messages\": [\n",
        "#       { # тут задается промпт модели\n",
        "#         \"role\": \"system\",\n",
        "#         \"text\": f\"\"\"Тебе нужно бинарно оценить, была ли взята информация из приведенных источником. Выведи только 1 если 90% было взято оттуда и 0 если нет\n",
        "# \"\"\"\n",
        "# },\n",
        "#       { # тут вопрос пользователя\n",
        "#         \"role\": \"user\",\n",
        "#         \"text\": f\"Источники:  {questions} \\n Информация: {answer}\"\n",
        "#       }\n",
        "#     ]\n",
        "#   }\n",
        "\n",
        "#   # with open(r\"prompt.json\", \"w\", encoding=\"utf-8\") as json_file: # указать путь и имя json файла\n",
        "#   #   json.dump(prompt, json_file, ensure_ascii=False)\n",
        "\n",
        "#   return prompt"
      ],
      "metadata": {
        "id": "8i-5SFUQut4q"
      },
      "execution_count": 196,
      "outputs": []
    },
    {
      "cell_type": "code",
      "source": [
        "# secret_key = r'AQVN1G0EJLLoN3h1C9cwwR09wMiW5ZaQULveQ1vo'\n",
        "# def get_promt(question, context):\n",
        "\n",
        "\n",
        "\n",
        "#   prompt = {\n",
        "#     \"modelUri\": r\"gpt://b1gtg0ar2bip3ebkst80/yandexgpt/latest\", # версия модели тут https://yandex.cloud/ru/docs/foundation-models/concepts/yandexgpt/models\n",
        "#     \"completionOptions\": {\n",
        "#       \"stream\": False,\n",
        "#       \"temperature\": 0.0,\n",
        "#       \"maxTokens\": \"2000\"\n",
        "#     },\n",
        "#     \"messages\": [\n",
        "#       { # тут задается промпт модели\n",
        "#         \"role\": \"system\",\n",
        "#         \"text\": \"\"\"Тебе будут предоставленны вопросы, ответами и ссылками. Далее последует вопрос от пользователя приложения банка Tinkoff, о котором ты знаешь ничего и не можешь давать общие советы\n",
        "#   - Тебе нужно выбрать один ответ с самым подходящим ответом под новый вопрос\n",
        "#   - Ты не можешь отвечать своими словами\n",
        "#   - Выбери только один самый близкий вопрос, если он чуть-чуть отличается по смыслу, можешь немного изменить вступление\n",
        "#   - Обязательно укажи источник в конце по шаблону\n",
        "#   - Если ты не можешь ответить на вопрос исходя из данных, то скажи: К сожалению, я не могу ответить на этот вопрос.\n",
        "\n",
        "#   Пример ввода:\n",
        "#   Как открыть ИП онлайн? -- Есть несколько способов: через Тинькофф, сайт налоговой или Госуслуги. С помощью сервиса Тинькофф: Заполните анкету на сайте — займет 10 минут. Из документов нужны только СНИЛС и фото паспорта — главного разворота и страницы с пропиской. Назначьте встречу с представителем банка, чтобы подписать документы. Мы проверим документы и отправим их в налоговую. В течение рабочего дня вам на эл. почту придет подтверждение от ФНС, что документы получены. Через 3-5 рабочих дней на эл. почту придут документы о регистрации ИП: лист записи ЕГРИП и уведомление о постановке на учет в налоговую. Через сайт налоговой. Зайдите на сайт налоговой, заполните заявление о государственной регистрации ИП, выберите электронный способ подачи документов. Госпошлину платить не нужно, но понадобится квалифицированная электронная подпись, КЭП. Зарегистрировать ИП в ФНС База знаний ФНС по регистрации ИП и ООО Сервисы ФНС для регистрации ИП и ООО Через Госуслуги. Зайдите на портал госуслуг, авторизуйтесь, загрузите документы и заявление. Госпошлину платить не нужно. Понадобится подтвержденная учетная запись на портале и квалифицированная электронная подпись, КЭП. Как получить КЭП Зарегистрировать ИП через Госуслуги Открыть ИП можно также офлайн — в МФЦ, налоговой или через нотариуса. Подробнее об этих способах — в статье «Как открыть ИП: налоговый режим, ОКВЭДы, регистрация». -- https://www.tinkoff.ru/business/help/registration/registration/register-ip/open/?card=q1\n",
        "#   Как открыть ИП, если нет постоянной регистрации? -- Чтобы стать ИП, подойдет и временная регистрация. Процесс такой же, как и с постоянной. После открытия ИП по временной регистрации вы будете относиться к инспекции ФНС Федеральная налоговая служба по месту пребывания. -- https://www.tinkoff.ru/business/help/registration/registration/register-ip/opening-conditions/?card=q5\n",
        "#   Можно ли открыть ИП онлайн?\n",
        "\n",
        "#   Пример вывода:\n",
        "#   Открыть ИП можно онлайн. Есть несколько способов: через Тинькофф, сайт налоговой или Госуслуги. С помощью сервиса Тинькофф: Заполните анкету на сайте — займет 10 минут. Из документов нужны только СНИЛС и фото паспорта — главного разворота и страницы с пропиской. Назначьте встречу с представителем банка, чтобы подписать документы. Мы проверим документы и отправим их в налоговую. В течение рабочего дня вам на эл. почту придет подтверждение от ФНС, что документы получены. Через 3-5 рабочих дней на эл. почту придут документы о регистрации ИП: лист записи ЕГРИП и уведомление о постановке на учет в налоговую. Через сайт налоговой. Зайдите на сайт налоговой, заполните заявление о государственной регистрации ИП, выберите электронный способ подачи документов. Госпошлину платить не нужно, но понадобится квалифицированная электронная подпись, КЭП. Зарегистрировать ИП в ФНС База знаний ФНС по регистрации ИП и ООО Сервисы ФНС для регистрации ИП и ООО Через Госуслуги. Зайдите на портал госуслуг, авторизуйтесь, загрузите документы и заявление. Госпошлину платить не нужно. Понадобится подтвержденная учетная запись на портале и квалифицированная электронная подпись, КЭП. Как получить КЭП Зарегистрировать ИП через Госуслуги Открыть ИП можно также офлайн — в МФЦ, налоговой или через нотариуса. Подробнее об этих способах — в статье «Как открыть ИП: налоговый режим, ОКВЭДы, регистрация».\n",
        "#   Источник: https://www.tinkoff.ru/business/help/registration/registration/register-ip/open/?card=q1\n",
        "# \"\"\"\n",
        "# },\n",
        "#       { # тут вопрос пользователя\n",
        "#         \"role\": \"user\",\n",
        "#         \"text\": f\"Вопросы из базы: {context} \\n Вопрос пользователя: {question}\"\n",
        "#       }\n",
        "#     ]\n",
        "#   }\n",
        "\n",
        "#   # with open(r\"prompt.json\", \"w\", encoding=\"utf-8\") as json_file: # указать путь и имя json файла\n",
        "#   #   json.dump(prompt, json_file, ensure_ascii=False)\n",
        "\n",
        "#   return prompt\n",
        "\n",
        "\n",
        "# def get_relevant_questions(question, model = model):\n",
        "#     results = collection.query(\n",
        "#     query_texts=[question],\n",
        "#     n_results=3\n",
        "#     )\n",
        "#     print(results)\n",
        "#     return results['documents'], results['distances']\n",
        "#     #return results['documents']\n",
        "\n",
        "\n",
        "\n",
        "# def get_responce(auth_headers, question):\n",
        "\n",
        "#     url = r'https://llm.api.cloud.yandex.net/foundationModels/v1/completion' # всегда такой\n",
        "\n",
        "#     # with open(r'prompt.json', 'r', encoding='utf-8') as f: # создаем json в кодировке utf-8 и считываем файл (заменить путь)\n",
        "#     #     data = json.dumps(json.load(f))\n",
        "#     files = get_relevant_questions(question)\n",
        "#     context = ''\n",
        "#     for file in files[0][0]:\n",
        "#       context += file\n",
        "#       context += '\\n'\n",
        "\n",
        "#     prompt = get_promt(question, context)\n",
        "#     data = json.dumps(prompt, ensure_ascii=True, indent=4)\n",
        "\n",
        "#     resp = requests.post(url, headers=auth_headers, data=data)\n",
        "\n",
        "#     if resp.status_code != 200:\n",
        "#         raise RuntimeError(\n",
        "#             'Invalid response received: code: {}, message: {}'.format(\n",
        "#                 {resp.status_code}, {resp.text}\n",
        "#             )\n",
        "#         )\n",
        "\n",
        "#     res_text = json.loads(resp.text)['result']['alternatives'][0]['message']['text']\n",
        "\n",
        "#     prompt2 = get_promt_on_check(context, res_text)\n",
        "#     print(prompt2)\n",
        "#     data2 = json.dumps(prompt2, ensure_ascii=True, indent=4)\n",
        "\n",
        "#     resp2 = requests.post(url, headers=auth_headers, data=data2)\n",
        "\n",
        "\n",
        "#     if resp2.status_code != 200:\n",
        "#         raise RuntimeError(\n",
        "#             'Invalid response received: code: {}, message: {}'.format(\n",
        "#                 {resp2.status_code}, {resp2.text}\n",
        "#             )\n",
        "#         )\n",
        "\n",
        "#     prediction = json.loads(resp2.text)['result']['alternatives'][0]['message']['text']\n",
        "#     print(prediction)\n",
        "#     if prediction == '1':\n",
        "#       return res_text\n",
        "#     else:\n",
        "#       return \"К сожалению, я не могу ответить на этот вопрос.\"\n",
        "\n",
        "\n",
        "# headers = {\n",
        "#     'Content-Type' : 'application/json', # всегда\n",
        "#     'Authorization' : f'Api-Key {secret_key}' # тут можно менять: Api-Key это ключ который выдается один раз при создании ключа, можно заменить на Bearer {iam_token}\n",
        "# }\n",
        "\n",
        "\n"
      ],
      "metadata": {
        "id": "Dla0EFu0RcB6"
      },
      "execution_count": 228,
      "outputs": []
    },
    {
      "cell_type": "code",
      "source": [],
      "metadata": {
        "id": "ziUzVv5IZPrx"
      },
      "execution_count": null,
      "outputs": []
    },
    {
      "cell_type": "code",
      "source": [
        "# question = 'Какой есть тинькофф для юр лиц -- '\n",
        "# results = get_responce(headers, question)\n",
        "# print(results)\n",
        "# #как отписаться от ютуб канала"
      ],
      "metadata": {
        "colab": {
          "base_uri": "https://localhost:8080/"
        },
        "id": "NQuaxB_UTic8",
        "outputId": "15317f6d-ad79-4f6a-8414-b6fbf1fbdede"
      },
      "execution_count": 200,
      "outputs": [
        {
          "output_type": "stream",
          "name": "stdout",
          "text": [
            "{'ids': [['id422', 'id2682']], 'distances': [[0.332852303981781, 0.332852303981781]], 'embeddings': None, 'metadatas': [[None, None]], 'documents': [['Карточка --  -- https://www.tinkoff.ru/business/help/business-self-employment/payout/about/features/?card=q1', 'Карточка --  -- https://www.tinkoff.ru/business/help/business-self-employment/self-employed/work/start/?card=q1']], 'uris': None, 'data': None}\n",
            "{'modelUri': 'gpt://b1gtg0ar2bip3ebkst80/yandexgpt/latest', 'completionOptions': {'stream': False, 'temperature': 0.0, 'maxTokens': '2000'}, 'messages': [{'role': 'system', 'text': 'Тебе нужно бинарно оценить, была ли взята информация из приведенных источником. Выведи только 1 если 90% было взято оттуда и 0 если нет\\n'}, {'role': 'user', 'text': 'Источники:  Карточка --  -- https://www.tinkoff.ru/business/help/business-self-employment/payout/about/features/?card=q1\\nКарточка --  -- https://www.tinkoff.ru/business/help/business-self-employment/self-employed/work/start/?card=q1\\n \\n Информация: **Какой есть Тинькофф для юр лиц**\\n\\nДля юридических лиц в банке Тинькофф предусмотрены различные продукты и услуги, которые можно найти на сайте банка или проконсультироваться со специалистами. Среди них: расчётно-кассовое обслуживание, корпоративные карты, кредиты, депозиты, эквайринг, зарплатные проекты и другие.\\n\\nТакже банк предлагает услуги по регистрации бизнеса, включая помощь в оформлении ИП и ООО. Для получения более подробной информации о продуктах и услугах для юридических лиц рекомендуется обратиться к официальному сайту банка Тинькофф или связаться с представителями банка.'}]}\n",
            "1\n",
            "**Какой есть Тинькофф для юр лиц**\n",
            "\n",
            "Для юридических лиц в банке Тинькофф предусмотрены различные продукты и услуги, которые можно найти на сайте банка или проконсультироваться со специалистами. Среди них: расчётно-кассовое обслуживание, корпоративные карты, кредиты, депозиты, эквайринг, зарплатные проекты и другие.\n",
            "\n",
            "Также банк предлагает услуги по регистрации бизнеса, включая помощь в оформлении ИП и ООО. Для получения более подробной информации о продуктах и услугах для юридических лиц рекомендуется обратиться к официальному сайту банка Тинькофф или связаться с представителями банка.\n"
          ]
        }
      ]
    },
    {
      "cell_type": "code",
      "source": [
        "# results.text"
      ],
      "metadata": {
        "colab": {
          "base_uri": "https://localhost:8080/",
          "height": 107
        },
        "id": "wsSHS7w6cI-B",
        "outputId": "d03026f2-6ed9-4bc5-be3d-ef8e64322793"
      },
      "execution_count": 133,
      "outputs": [
        {
          "output_type": "execute_result",
          "data": {
            "text/plain": [
              "'{\"result\":{\"alternatives\":[{\"message\":{\"role\":\"assistant\",\"text\":\"Чтобы отписаться от канала на YouTube, необходимо выполнить следующие шаги:\\\\n\\\\n1. Открыть YouTube на компьютере или мобильном устройстве.\\\\n2. Перейти в раздел «Подписки».\\\\n3. Найти нужный канал и нажать на кнопку «Отписаться».\\\\n4. Подтвердить действие.\\\\n\\\\nТакже можно отписаться от каналов на YouTube через мобильное приложение или веб-версию сервиса. Для этого нужно найти интересующий канал в списке подписок и нажать кнопку «Отписаться» или «Unsubscribe».\"},\"status\":\"ALTERNATIVE_STATUS_FINAL\"}],\"usage\":{\"inputTextTokens\":\"1055\",\"completionTokens\":\"99\",\"totalTokens\":\"1154\"},\"modelVersion\":\"07.03.2024\"}}\\n'"
            ],
            "application/vnd.google.colaboratory.intrinsic+json": {
              "type": "string"
            }
          },
          "metadata": {},
          "execution_count": 133
        }
      ]
    },
    {
      "cell_type": "markdown",
      "source": [],
      "metadata": {
        "id": "JX5n59c2TghP"
      }
    },
    {
      "cell_type": "markdown",
      "source": [],
      "metadata": {
        "id": "qE7FvSGDTewS"
      }
    },
    {
      "cell_type": "code",
      "source": [
        "# results.text"
      ],
      "metadata": {
        "colab": {
          "base_uri": "https://localhost:8080/",
          "height": 214
        },
        "id": "ZPlkHF2IbaOX",
        "outputId": "19f5341f-89bf-4a93-d7e6-40483df39a93"
      },
      "execution_count": 38,
      "outputs": [
        {
          "output_type": "execute_result",
          "data": {
            "text/plain": [
              "'{\"result\":{\"alternatives\":[{\"message\":{\"role\":\"assistant\",\"text\":\"Открыть ИП можно онлайн. Есть несколько способов: через Тинькофф, сайт налоговой или Госуслуги. С помощью сервиса Тинькофф: Заполните анкету на сайте — займёт 10 минут. Из документов нужны только СНИЛС и фото паспорта — главного разворота и страницы с пропиской. Назначьте встречу с представителем банка, чтобы подписать документы. Мы проверим документы и отправим их в налоговую. В течение рабочего дня вам на эл. почту придёт подтверждение от ФНС, что документы получены. Через 3–5 рабочих дней на эл. почту придут документы о регистрации ИП: лист записи ЕГРИП и уведомление о постановке на учёт в налоговую.\\\\n\\\\nЧерез сайт налоговой. Зайдите на сайт налоговой, заполните заявление о государственной регистрации ИП, выберите электронный способ подачи документов. Госпошлину платить не нужно, но понадобится квалифицированная электронная подпись, КЭП. Зарегистрировать ИП в ФНС База знаний ФНС по регистрации ИП и ООО Сервисы ФНС для регистрации ИП и ООО\\\\n\\\\nЧерез Госуслуги. Зайдите на портал госуслуг, авторизуйтесь, загрузите документы и заявление. Госпошлину платить не нужно. Понадобится подтверждённая учётная запись на портале и квалифицированная электронная подпись, КЭП. Как получить КЭП Зарегистрировать ИП через Госуслуги\\\\n\\\\nОткрыть ИП можно также офлайн — в МФЦ, налоговой или через нотариуса. Подробнее об этих способах — в статье «Как открыть ИП: налоговый режим, ОКВЭДы, регистрация».\"},\"status\":\"ALTERNATIVE_STATUS_FINAL\"}],\"usage\":{\"inputTextTokens\":\"1312\",\"completionTokens\":\"273\",\"totalTokens\":\"1585\"},\"modelVersion\":\"07.03.2024\"}}\\n'"
            ],
            "application/vnd.google.colaboratory.intrinsic+json": {
              "type": "string"
            }
          },
          "metadata": {},
          "execution_count": 38
        }
      ]
    },
    {
      "cell_type": "code",
      "source": [
        "from openai import OpenAI\n",
        "import re\n",
        "client = OpenAI(api_key='sk-proj-SyXBjT4PPB98njKb7GYFT3BlbkFJg3ItqCdr7WzBe7zHTr6b')\n",
        "\n",
        "def get_relevant_questions(question, model = model):\n",
        "    results = collection.query(\n",
        "    query_texts=[question],\n",
        "    n_results=3\n",
        "    )\n",
        "    print(results)\n",
        "    return results['documents'], results['distances']\n",
        "\n",
        "def generate_questions(data, model_name=\"gpt-3.5-turbo\"):\n",
        "    completion = client.chat.completions.create(\n",
        "        model=model_name,\n",
        "        temperature = 0.0,\n",
        "        messages=[\n",
        "            {\"role\": \"system\",\n",
        "             \"content\": f\"\"\"Тебе будут предоставленны вопросы, с ответами и ссылками. Далее последует вопрос от пользователя приложения банка Tinkoff\n",
        "  - Ты не можешь отвечать своими словами\n",
        "  - Выбери только один самый близкий вопрос, если он чуть-чуть отличается по смыслу, можешь немного изменить вступление\n",
        "  - Обязательно укажи источник в конце по шаблону\n",
        "  - Если ты не можешь ответить на вопрос исходя из данных, то скажи: К сожалению, я не могу ответить на этот вопрос.\n",
        "\n",
        "  Пример ввода:\n",
        "  Как открыть ИП онлайн? -- Есть несколько способов: через Тинькофф, сайт налоговой или Госуслуги. С помощью сервиса Тинькофф: Заполните анкету на сайте — займет 10 минут. Из документов нужны только СНИЛС и фото паспорта — главного разворота и страницы с пропиской. Назначьте встречу с представителем банка, чтобы подписать документы. Мы проверим документы и отправим их в налоговую. В течение рабочего дня вам на эл. почту придет подтверждение от ФНС, что документы получены. Через 3-5 рабочих дней на эл. почту придут документы о регистрации ИП: лист записи ЕГРИП и уведомление о постановке на учет в налоговую. Через сайт налоговой. Зайдите на сайт налоговой, заполните заявление о государственной регистрации ИП, выберите электронный способ подачи документов. Госпошлину платить не нужно, но понадобится квалифицированная электронная подпись, КЭП. Зарегистрировать ИП в ФНС База знаний ФНС по регистрации ИП и ООО Сервисы ФНС для регистрации ИП и ООО Через Госуслуги. Зайдите на портал госуслуг, авторизуйтесь, загрузите документы и заявление. Госпошлину платить не нужно. Понадобится подтвержденная учетная запись на портале и квалифицированная электронная подпись, КЭП. Как получить КЭП Зарегистрировать ИП через Госуслуги Открыть ИП можно также офлайн — в МФЦ, налоговой или через нотариуса. Подробнее об этих способах — в статье «Как открыть ИП: налоговый режим, ОКВЭДы, регистрация». -- https://www.tinkoff.ru/business/help/registration/registration/register-ip/open/?card=q1\n",
        "  Как открыть ИП, если нет постоянной регистрации? -- Чтобы стать ИП, подойдет и временная регистрация. Процесс такой же, как и с постоянной. После открытия ИП по временной регистрации вы будете относиться к инспекции ФНС Федеральная налоговая служба по месту пребывания. -- https://www.tinkoff.ru/business/help/registration/registration/register-ip/opening-conditions/?card=q5\n",
        "  Можно ли открыть ИП онлайн?\n",
        "\n",
        "  Пример вывода:\n",
        "  Открыть ИП можно онлайн. Есть несколько способов: через Тинькофф, сайт налоговой или Госуслуги. С помощью сервиса Тинькофф: Заполните анкету на сайте — займет 10 минут. Из документов нужны только СНИЛС и фото паспорта — главного разворота и страницы с пропиской. Назначьте встречу с представителем банка, чтобы подписать документы. Мы проверим документы и отправим их в налоговую. В течение рабочего дня вам на эл. почту придет подтверждение от ФНС, что документы получены. Через 3-5 рабочих дней на эл. почту придут документы о регистрации ИП: лист записи ЕГРИП и уведомление о постановке на учет в налоговую. Через сайт налоговой. Зайдите на сайт налоговой, заполните заявление о государственной регистрации ИП, выберите электронный способ подачи документов. Госпошлину платить не нужно, но понадобится квалифицированная электронная подпись, КЭП. Зарегистрировать ИП в ФНС База знаний ФНС по регистрации ИП и ООО Сервисы ФНС для регистрации ИП и ООО Через Госуслуги. Зайдите на портал госуслуг, авторизуйтесь, загрузите документы и заявление. Госпошлину платить не нужно. Понадобится подтвержденная учетная запись на портале и квалифицированная электронная подпись, КЭП. Как получить КЭП Зарегистрировать ИП через Госуслуги Открыть ИП можно также офлайн — в МФЦ, налоговой или через нотариуса. Подробнее об этих способах — в статье «Как открыть ИП: налоговый режим, ОКВЭДы, регистрация».\n",
        "  Источник: https://www.tinkoff.ru/business/help/registration/registration/register-ip/open/?card=q1\n",
        "    {data}\"\"\"},\n",
        "        ]\n",
        "    )\n",
        "    return completion.choices[0].message\n",
        "\n",
        "def check_answer(answer, data, model_name=\"gpt-3.5-turbo\"):\n",
        "    completion = client.chat.completions.create(\n",
        "        model=model_name,\n",
        "        temperature = 0.0,\n",
        "        messages=[\n",
        "            {\"role\": \"system\",\n",
        "             \"content\": f\"\"\" Ты должен бинарно проверить ответ на галюцинации, то есть была ли информация взята с этих источников или нет. Выведи только 1 если да и 0 если нет.\n",
        "             Также выведи 0 если ответ является коротким или не по теме банков и финансов\n",
        "             Информация: {answer} \\n\n",
        "             Источники: {data}\n",
        "\"\"\"},\n",
        "        ]\n",
        "    )\n",
        "    return completion.choices[0].message\n",
        "\n",
        "def generate_answer(question):\n",
        "    top_close, prob = get_relevant_questions(question)\n",
        "    print(prob)\n",
        "    context = ''\n",
        "    for file in top_close[0]:\n",
        "      context += file\n",
        "      context += '\\n'\n",
        "    context += question\n",
        "    if  prob[0][0] > 0.5:\n",
        "        return \"К сожалению, я не могу ответить на этот вопрос. \"\n",
        "    else:\n",
        "        print(context)\n",
        "        text = generate_questions(context).content\n",
        "\n",
        "        if check_answer(text, context).content == '1':\n",
        "          return text\n",
        "        else:\n",
        "          return \" К сожалению, я не могу ответить на этот вопрос.\"\n",
        "\n",
        "\n",
        "url_pattern = r'https?://[^\\s,]+'\n",
        "\n",
        "test_question = 'Как проследить за бухгалтером'\n",
        "def get_answer(question):\n",
        "  test_question = question + ' -- '\n",
        "  res = generate_answer(test_question)\n",
        "  urls = re.findall(url_pattern, res)\n",
        "  if len(urls) == 0:\n",
        "    urls.append('')\n",
        "\n",
        "  return res, urls[0]\n",
        "\n",
        "print(get_answer('Как проследить за бухгалтером'))\n",
        "\n"
      ],
      "metadata": {
        "colab": {
          "base_uri": "https://localhost:8080/"
        },
        "id": "z6jmNKG6louK",
        "outputId": "dca3dda6-2f39-474d-834c-533fa0f2bfc7"
      },
      "execution_count": 234,
      "outputs": [
        {
          "output_type": "stream",
          "name": "stdout",
          "text": [
            "{'ids': [['id3470', 'id6014', 'id2777']], 'distances': [[0.13781768083572388, 0.13781768083572388, 0.14910399913787842]], 'embeddings': None, 'metadatas': [[None, None, None]], 'documents': [['Каким образом можно связаться с бухгалтером? -- Общаться с бухгалтером можно через чат в личном кабинете и бесплатное приложение для iOS и Android. Или ему можно позвонить — для этого свяжитесь с персональным менеджером. -- https://www.tinkoff.ru/business/help/reports/accounting-service/about/personal-accounting/?card=write-accountant', 'Каким образом можно связаться с бухгалтером? -- Общаться с бухгалтером можно через чат в личном кабинете и бесплатном приложении для Android. Или можно позвонить ему по номеру 8 800 511-98-42 в будни с 10:00 до 19:00 мск. Как скачать приложение Тинькофф Бизнеса -- https://www.tinkoff.ru/business/help/reports/tinkoff-accounting/accounting-service/personal-accounting/?card=q9', 'Как связаться с бухгалтером? -- Общаться с бухгалтером можно через чат в личном кабинете и бесплатном приложении для Android. Или можно позвонить ему по номеру 8 800 511-98-42 в будни с 10:00 до 19:00 мск. Как скачать приложение Тинькофф Бизнеса -- https://www.tinkoff.ru/business/help/reports/tinkoff-accounting/accounting-service/personal-accounting/?card=q9']], 'uris': None, 'data': None}\n",
            "[[0.13781768083572388, 0.13781768083572388, 0.14910399913787842]]\n",
            "Каким образом можно связаться с бухгалтером? -- Общаться с бухгалтером можно через чат в личном кабинете и бесплатное приложение для iOS и Android. Или ему можно позвонить — для этого свяжитесь с персональным менеджером. -- https://www.tinkoff.ru/business/help/reports/accounting-service/about/personal-accounting/?card=write-accountant\n",
            "Каким образом можно связаться с бухгалтером? -- Общаться с бухгалтером можно через чат в личном кабинете и бесплатном приложении для Android. Или можно позвонить ему по номеру 8 800 511-98-42 в будни с 10:00 до 19:00 мск. Как скачать приложение Тинькофф Бизнеса -- https://www.tinkoff.ru/business/help/reports/tinkoff-accounting/accounting-service/personal-accounting/?card=q9\n",
            "Как связаться с бухгалтером? -- Общаться с бухгалтером можно через чат в личном кабинете и бесплатном приложении для Android. Или можно позвонить ему по номеру 8 800 511-98-42 в будни с 10:00 до 19:00 мск. Как скачать приложение Тинькофф Бизнеса -- https://www.tinkoff.ru/business/help/reports/tinkoff-accounting/accounting-service/personal-accounting/?card=q9\n",
            "Как проследить за бухгалтером -- \n",
            "('Общаться с бухгалтером можно через чат в личном кабинете и бесплатном приложении для Android. Или можно позвонить ему по номеру 8 800 511-98-42 в будни с 10:00 до 19:00 мск. Как скачать приложение Тинькофф Бизнеса\\nИсточник: https://www.tinkoff.ru/business/help/reports/tinkoff-accounting/accounting-service/personal-accounting/?card=q9', 'https://www.tinkoff.ru/business/help/reports/tinkoff-accounting/accounting-service/personal-accounting/?card=q9')\n"
          ]
        }
      ]
    },
    {
      "cell_type": "code",
      "source": [
        "\"\"\"\n",
        "        \"\"\""
      ],
      "metadata": {
        "id": "9q0JUzxmlrAV"
      },
      "execution_count": null,
      "outputs": []
    }
  ]
}